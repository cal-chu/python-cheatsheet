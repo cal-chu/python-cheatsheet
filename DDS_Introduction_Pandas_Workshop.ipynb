{
  "nbformat": 4,
  "nbformat_minor": 0,
  "metadata": {
    "colab": {
      "name": "DDS_Introduction_Pandas_Workshop.ipynb",
      "version": "0.3.2",
      "provenance": [],
      "collapsed_sections": [],
      "include_colab_link": true
    },
    "language_info": {
      "codemirror_mode": {
        "name": "ipython",
        "version": 3
      },
      "file_extension": ".py",
      "mimetype": "text/x-python",
      "name": "python",
      "nbconvert_exporter": "python",
      "pygments_lexer": "ipython3",
      "version": "3.6.5"
    },
    "kernelspec": {
      "display_name": "Python [default]",
      "language": "python",
      "name": "python3"
    }
  },
  "cells": [
    {
      "cell_type": "markdown",
      "metadata": {
        "id": "view-in-github",
        "colab_type": "text"
      },
      "source": [
        "<a href=\"https://colab.research.google.com/github/cal-chu/python-cheatsheet/blob/master/DDS_Introduction_Pandas_Workshop.ipynb\" target=\"_parent\"><img src=\"https://colab.research.google.com/assets/colab-badge.svg\" alt=\"Open In Colab\"/></a>"
      ]
    },
    {
      "cell_type": "markdown",
      "metadata": {
        "id": "bL9LXvuxW6so",
        "colab_type": "text"
      },
      "source": [
        "<center>\n",
        "<img src=\"https://drive.google.com/uc?export=view&id=1i1_Glu8nhZPHh9S5PSq16JIBmligAA_x\"  alt=\"drawing\" height=\"100\"/>\n",
        "<br><br>\n",
        " <img src=\"https://drive.google.com/uc?export=view&id=1C3xcWyRHizAnjfs1j_NZnYalapqQ-Lrq\"  alt=\"drawing\" height=\"150\"/>\n",
        "  \n",
        "</center>"
      ]
    },
    {
      "cell_type": "markdown",
      "metadata": {
        "id": "qak1bHD5WX7o",
        "colab_type": "text"
      },
      "source": [
        "# Introduction to Pandas Workshop\n",
        "\n",
        "## Jonathan Balaban and Joe Eddy\n",
        "\n",
        "---\n",
        "\n",
        "## Python\n",
        "- One of world's most popular languages, especially for Data Science\n",
        "- Design encourages simplicity and readability\n",
        "- Robust language that easily integrates with other software components\n",
        "- Object-oriented programming\n",
        "\n",
        "## Google Colab/Jupyter Notebooks\n",
        "- Executes Python code on the fly\n",
        "- Interactivity allows for instant feedback\n",
        "- Memory persists across cells\n",
        "- `shift+enter` to run cells\n",
        "- Use [markdown](https://blog.ghost.org/markdown/) (TEXT) mode for adding formatted text"
      ]
    },
    {
      "cell_type": "markdown",
      "metadata": {
        "id": "7jK67F71WX7p",
        "colab_type": "text"
      },
      "source": [
        "## Introduction to Pandas"
      ]
    },
    {
      "cell_type": "markdown",
      "metadata": {
        "id": "MU4RfVz6WX7q",
        "colab_type": "text"
      },
      "source": [
        "Pandas is a module in Python that is great for handling lots of data. Think of it as code-based Excel, allowing us to use spreadsheet functionality within a Data Science environment. We'll use it today to sort, reshape, and clean up data. \n",
        "\n",
        "> **From the Pandas documentation:**\n",
        ">\n",
        "> Some things that pandas does well:\n",
        ">\n",
        "> - Easy handling of **missing data** (represented as NaN) in floating point as well as non-floating point data\n",
        "- Size mutability: columns can be **inserted and deleted** from DataFrames and higher dimensional objects\n",
        "- Automatic and explicit **data alignment**: objects can be explicitly aligned to a set of labels, or the user can simply ignore the labels and let Series, DataFrame, etc. automatically align the data for you in computations\n",
        "- Powerful, flexible **group by** functionality to perform split-apply-combine operations on data sets, for both aggregating and transforming data\n",
        "- Make it **easy to convert** ragged, differently-indexed data in other Python and NumPy data structures into DataFrame objects\n",
        "- Intelligent **label-based slicing**, **fancy indexing**, and **subsetting** of large data sets\n",
        "- Intuitive **merging** and **joining** data sets\n",
        "- Flexible **reshaping** and **pivoting** of data sets\n",
        "- **Hierarchical labeling** of axes (possible to have multiple labels per tick)\n",
        "- **Robust IO tools** for loading data from flat files (CSV and delimited), Excel files, databases, and saving / loading data from the ultrafast HDF5 format\n",
        "- **Time-series** functionality: date range generation and frequency conversion, moving window statistics, moving window linear regressions, date shifting and lagging, etc.\n",
        "\n",
        "Let's get a sense of how it works with a test data set from a weather report."
      ]
    },
    {
      "cell_type": "code",
      "metadata": {
        "ExecuteTime": {
          "end_time": "2018-06-15T15:55:13.324009Z",
          "start_time": "2018-06-15T15:55:11.918149Z"
        },
        "id": "eq_oL1R8WX7r",
        "colab_type": "code",
        "colab": {}
      },
      "source": [
        "import pandas as pd # pd is by convention\n",
        "import numpy as np # as is np, always use these to make life easy\n",
        "\n",
        "import matplotlib.pyplot as plt\n",
        "import seaborn as sns\n",
        "\n",
        "# To Plot matplotlib figures inline on the notebook\n",
        "%matplotlib inline"
      ],
      "execution_count": 0,
      "outputs": []
    },
    {
      "cell_type": "markdown",
      "metadata": {
        "id": "KqKO-2pnWX7t",
        "colab_type": "text"
      },
      "source": [
        "The building blocks of pandas are called Series and DataFrames. A Dataframe is essentially a table, like shown below:"
      ]
    },
    {
      "cell_type": "markdown",
      "metadata": {
        "id": "nl4UDqBGWX7u",
        "colab_type": "text"
      },
      "source": [
        "![alt text](https://github.com/ultimatist/DDS/blob/master/images/dataframe.png?raw=true)"
      ]
    },
    {
      "cell_type": "markdown",
      "metadata": {
        "id": "N11myBhMWX7v",
        "colab_type": "text"
      },
      "source": [
        "Each row of the dataframe will be one specific record, and each column will be some aspect of that record. That will make more sense when we look at an example. Series are individual rows or columns (essentially if we break apart that dataframe into a single set of numbers). Let's look at that in action."
      ]
    },
    {
      "cell_type": "markdown",
      "metadata": {
        "id": "xt68zvi119BT",
        "colab_type": "text"
      },
      "source": [
        "### POLL\n",
        ">- When would using Pandas make sense?\n",
        "\n",
        "\n",
        ">- When might you not want to use Pandas?"
      ]
    },
    {
      "cell_type": "markdown",
      "metadata": {
        "id": "-zy60WTeWX7v",
        "colab_type": "text"
      },
      "source": [
        "### Reading Data\n",
        "\n",
        "To begin with, we're going to read in some data from a CSV."
      ]
    },
    {
      "cell_type": "code",
      "metadata": {
        "ExecuteTime": {
          "end_time": "2018-06-15T15:55:13.385387Z",
          "start_time": "2018-06-15T15:55:13.325932Z"
        },
        "id": "zhLDTPNBWX7w",
        "colab_type": "code",
        "colab": {}
      },
      "source": [
        "weather = pd.read_csv('https://raw.githubusercontent.com/ultimatist/DDS/master/data/weather.csv')\n",
        "weather.head()"
      ],
      "execution_count": 0,
      "outputs": []
    },
    {
      "cell_type": "markdown",
      "metadata": {
        "id": "7Uau8Y74WX70",
        "colab_type": "text"
      },
      "source": [
        "Here we got our table, and it shows us that we're looking at the hourly weather at some point. We can see that the temperature was below freezing for each of the first four hours, that there was some fog, and that it was a little bit windy. We used `weather.head()` to show us just the first few rows. Otherwise, it would show us a HUGE amount of data. We can look at the last few rows with `weather.tail()`"
      ]
    },
    {
      "cell_type": "code",
      "metadata": {
        "ExecuteTime": {
          "end_time": "2018-06-15T15:55:14.709110Z",
          "start_time": "2018-06-15T15:55:14.696122Z"
        },
        "id": "PesqiszaWX70",
        "colab_type": "code",
        "colab": {}
      },
      "source": [
        "weather.tail()"
      ],
      "execution_count": 0,
      "outputs": []
    },
    {
      "cell_type": "markdown",
      "metadata": {
        "id": "YHB6cvBBWX74",
        "colab_type": "text"
      },
      "source": [
        "Now let's use a Pandas built-in function to learn a little about our data."
      ]
    },
    {
      "cell_type": "code",
      "metadata": {
        "ExecuteTime": {
          "end_time": "2018-06-15T15:55:15.474995Z",
          "start_time": "2018-06-15T15:55:15.461376Z"
        },
        "id": "s4X5vKTZWX74",
        "colab_type": "code",
        "colab": {}
      },
      "source": [
        "weather.info()"
      ],
      "execution_count": 0,
      "outputs": []
    },
    {
      "cell_type": "markdown",
      "metadata": {
        "id": "iTpMZSGl2USf",
        "colab_type": "text"
      },
      "source": [
        "### POLL\n",
        "\n",
        ">- Are these data types consistent with what we expect?"
      ]
    },
    {
      "cell_type": "markdown",
      "metadata": {
        "id": "ryaY5_b0WX77",
        "colab_type": "text"
      },
      "source": [
        "We can also look to see how much of our data makes sense by asking it to look at the numeric columns and give us some stats about them."
      ]
    },
    {
      "cell_type": "code",
      "metadata": {
        "ExecuteTime": {
          "end_time": "2018-06-15T15:55:17.641689Z",
          "start_time": "2018-06-15T15:55:17.601500Z"
        },
        "id": "pC7owR6kWX77",
        "colab_type": "code",
        "colab": {}
      },
      "source": [
        "weather.describe()"
      ],
      "execution_count": 0,
      "outputs": []
    },
    {
      "cell_type": "code",
      "metadata": {
        "ExecuteTime": {
          "end_time": "2018-06-15T15:55:19.050930Z",
          "start_time": "2018-06-15T15:55:19.045842Z"
        },
        "id": "K5euPiXAWX7-",
        "colab_type": "code",
        "colab": {}
      },
      "source": [
        "weather.shape\n",
        "\n",
        "# why only six columns in describe?"
      ],
      "execution_count": 0,
      "outputs": []
    },
    {
      "cell_type": "markdown",
      "metadata": {
        "id": "Ogb_7cjSWX8B",
        "colab_type": "text"
      },
      "source": [
        ">Great, looks like these are all behaving relatively as expected! That's lovely. "
      ]
    },
    {
      "cell_type": "markdown",
      "metadata": {
        "id": "ISQqe2vLWX8C",
        "colab_type": "text"
      },
      "source": [
        "### Getting data from the dataframe\n",
        "\n",
        "Now let's learn how to grab some data from the DataFrame. Also, let's look at what a _Series_ is. To start with, let's grab a column from our data (note that `head` says, \"show me the first few rows of my dataframe, column, etc.\"):"
      ]
    },
    {
      "cell_type": "markdown",
      "metadata": {
        "id": "ZcAGdzwNTPVW",
        "colab_type": "text"
      },
      "source": [
        ""
      ]
    },
    {
      "cell_type": "code",
      "metadata": {
        "ExecuteTime": {
          "end_time": "2018-06-15T15:55:19.847990Z",
          "start_time": "2018-06-15T15:55:19.842182Z"
        },
        "id": "ft5gnwEdWX8C",
        "colab_type": "code",
        "colab": {}
      },
      "source": [
        "weather['Temp (C)'].head()"
      ],
      "execution_count": 0,
      "outputs": []
    },
    {
      "cell_type": "markdown",
      "metadata": {
        "id": "c575_w5RWX8F",
        "colab_type": "text"
      },
      "source": [
        "This is a series! It has both the index (the left side) and the value. So we know which row it is and what the value is. That's pretty sweet. What can we do with a series? One really handy thing is getting the number of times a value shows up. Let's see that in action."
      ]
    },
    {
      "cell_type": "code",
      "metadata": {
        "ExecuteTime": {
          "end_time": "2018-06-15T15:55:21.368045Z",
          "start_time": "2018-06-15T15:55:21.357748Z"
        },
        "id": "GXzcjMupWX8F",
        "colab_type": "code",
        "colab": {}
      },
      "source": [
        "weather['Weather'].value_counts()"
      ],
      "execution_count": 0,
      "outputs": []
    },
    {
      "cell_type": "markdown",
      "metadata": {
        "id": "RHk33kOdWX8H",
        "colab_type": "text"
      },
      "source": [
        "**Exercise 1:**\n",
        "\n",
        "What is the most common Relative Humidity Percentage?"
      ]
    },
    {
      "cell_type": "code",
      "metadata": {
        "id": "GIYjITFYWX8I",
        "colab_type": "code",
        "colab": {}
      },
      "source": [
        "# Hint: Value Counts"
      ],
      "execution_count": 0,
      "outputs": []
    },
    {
      "cell_type": "code",
      "metadata": {
        "id": "MQdb0EGtWX8K",
        "colab_type": "code",
        "colab": {}
      },
      "source": [
        ""
      ],
      "execution_count": 0,
      "outputs": []
    },
    {
      "cell_type": "markdown",
      "metadata": {
        "id": "4SyrgChEWX8L",
        "colab_type": "text"
      },
      "source": [
        "### Row Lookups"
      ]
    },
    {
      "cell_type": "markdown",
      "metadata": {
        "id": "xz3a8UgjWX8M",
        "colab_type": "text"
      },
      "source": [
        "Cool. Now how do we access rows? We have to play a little bit of pandas games to do so. We'll use `.iloc` to do the job. Let's demonstrate by grabbing the first (0th) row."
      ]
    },
    {
      "cell_type": "code",
      "metadata": {
        "ExecuteTime": {
          "end_time": "2018-06-08T21:42:57.706983Z",
          "start_time": "2018-06-08T21:42:57.697891Z"
        },
        "id": "5Q2lAhfJWX8N",
        "colab_type": "code",
        "colab": {}
      },
      "source": [
        "weather.iloc[0]"
      ],
      "execution_count": 0,
      "outputs": []
    },
    {
      "cell_type": "markdown",
      "metadata": {
        "id": "5Jls4WbsWX8Q",
        "colab_type": "text"
      },
      "source": [
        "We can get multiple rows by following Python's conventions like so:"
      ]
    },
    {
      "cell_type": "code",
      "metadata": {
        "ExecuteTime": {
          "end_time": "2018-06-08T21:42:58.131160Z",
          "start_time": "2018-06-08T21:42:58.115537Z"
        },
        "id": "tp2h26_2WX8R",
        "colab_type": "code",
        "colab": {}
      },
      "source": [
        "weather.iloc[10:13]"
      ],
      "execution_count": 0,
      "outputs": []
    },
    {
      "cell_type": "markdown",
      "metadata": {
        "id": "0Dxhb-MPWX8U",
        "colab_type": "text"
      },
      "source": [
        "We also might want to select multiple columns. We can do that like this:"
      ]
    },
    {
      "cell_type": "code",
      "metadata": {
        "ExecuteTime": {
          "end_time": "2018-06-08T21:42:59.045276Z",
          "start_time": "2018-06-08T21:42:59.034442Z"
        },
        "id": "_hYufyXOWX8U",
        "colab_type": "code",
        "colab": {}
      },
      "source": [
        "weather[['Temp (C)',\"Dew Point Temp (C)\"]].head()\n",
        "\n",
        "# note that type of quote doesn't matter"
      ],
      "execution_count": 0,
      "outputs": []
    },
    {
      "cell_type": "markdown",
      "metadata": {
        "id": "QTkXNq7FWX8X",
        "colab_type": "text"
      },
      "source": [
        "And what if we want to get rows and columns?"
      ]
    },
    {
      "cell_type": "code",
      "metadata": {
        "ExecuteTime": {
          "end_time": "2018-06-15T15:56:40.121254Z",
          "start_time": "2018-06-15T15:56:40.109419Z"
        },
        "id": "dW_Q09wgWX8Y",
        "colab_type": "code",
        "colab": {}
      },
      "source": [
        "weather.loc[3:8, ['Temp (C)',\"Dew Point Temp (C)\"]]"
      ],
      "execution_count": 0,
      "outputs": []
    },
    {
      "cell_type": "markdown",
      "metadata": {
        "id": "JpM-Sce-WX8c",
        "colab_type": "text"
      },
      "source": [
        "**Note that iloc and loc have slightly different outputs, we're not going to have time to fully explore the difference... just remember that they're slightly different! iloc means \"index location\" and loc means \"label location\"**."
      ]
    },
    {
      "cell_type": "code",
      "metadata": {
        "ExecuteTime": {
          "end_time": "2018-06-15T15:58:15.219966Z",
          "start_time": "2018-06-15T15:58:15.206713Z"
        },
        "id": "TxJ0TSXwWX8c",
        "colab_type": "code",
        "colab": {}
      },
      "source": [
        "weather.iloc[3:6]"
      ],
      "execution_count": 0,
      "outputs": []
    },
    {
      "cell_type": "code",
      "metadata": {
        "ExecuteTime": {
          "end_time": "2018-06-15T15:58:17.121647Z",
          "start_time": "2018-06-15T15:58:17.108001Z"
        },
        "id": "g-P0T3MvWX8f",
        "colab_type": "code",
        "colab": {}
      },
      "source": [
        "weather.loc[3:6]"
      ],
      "execution_count": 0,
      "outputs": []
    },
    {
      "cell_type": "markdown",
      "metadata": {
        "id": "fXSvGXwG37fN",
        "colab_type": "text"
      },
      "source": [
        "### POLL\n",
        "\n",
        ">- If you could use `iloc` or `loc`, which is preferred? Can you provide examples?"
      ]
    },
    {
      "cell_type": "markdown",
      "metadata": {
        "id": "U-4yQIBoWX8i",
        "colab_type": "text"
      },
      "source": [
        "### Filtering"
      ]
    },
    {
      "cell_type": "markdown",
      "metadata": {
        "id": "RLApExjWWX8i",
        "colab_type": "text"
      },
      "source": [
        "What if we want to filter the data so we only see rows that match a certain criteria. We can do that by making a mask. A mask is a series that is trues and falses, based on some condition. So let's ask it to check if the temperature was -1.8, and if so mark the row as a true and if not, mark it as a false."
      ]
    },
    {
      "cell_type": "code",
      "metadata": {
        "ExecuteTime": {
          "end_time": "2018-06-08T21:43:01.430948Z",
          "start_time": "2018-06-08T21:43:01.422943Z"
        },
        "id": "mLqjw2fVWX8j",
        "colab_type": "code",
        "colab": {}
      },
      "source": [
        "mask = (weather['Temp (C)'] == -1.8) \n",
        "mask.head()"
      ],
      "execution_count": 0,
      "outputs": []
    },
    {
      "cell_type": "code",
      "metadata": {
        "ExecuteTime": {
          "end_time": "2018-06-08T21:43:01.761884Z",
          "start_time": "2018-06-08T21:43:01.750004Z"
        },
        "id": "O6r2IHlIWX8l",
        "colab_type": "code",
        "colab": {}
      },
      "source": [
        "weather['Temp (C)'].head()"
      ],
      "execution_count": 0,
      "outputs": []
    },
    {
      "cell_type": "markdown",
      "metadata": {
        "id": "EkimQnGXWX8q",
        "colab_type": "text"
      },
      "source": [
        "Now we apply the mask and should see that only rows with that temperature remain!"
      ]
    },
    {
      "cell_type": "code",
      "metadata": {
        "ExecuteTime": {
          "end_time": "2018-06-08T21:43:02.452792Z",
          "start_time": "2018-06-08T21:43:02.435474Z"
        },
        "id": "NyNmGA0kWX8q",
        "colab_type": "code",
        "colab": {}
      },
      "source": [
        "weather_test = weather[mask] \n",
        "weather_test.head(10)"
      ],
      "execution_count": 0,
      "outputs": []
    },
    {
      "cell_type": "markdown",
      "metadata": {
        "collapsed": true,
        "id": "fd3W_MMkWX8s",
        "colab_type": "text"
      },
      "source": [
        "What if we want to match multiple conditions? Let's do a double filter:"
      ]
    },
    {
      "cell_type": "code",
      "metadata": {
        "ExecuteTime": {
          "end_time": "2018-06-08T21:43:04.194201Z",
          "start_time": "2018-06-08T21:43:04.179887Z"
        },
        "id": "9jt-6rutWX8t",
        "colab_type": "code",
        "colab": {}
      },
      "source": [
        "mask = (weather['Temp (C)'] == -1.8) & (weather['Visibility (km)'] == 8.0)\n",
        "weather[mask]"
      ],
      "execution_count": 0,
      "outputs": []
    },
    {
      "cell_type": "markdown",
      "metadata": {
        "id": "89ZSUe_jWX8v",
        "colab_type": "text"
      },
      "source": [
        "**Exercise 2:**\n",
        "\n",
        "Apply a new filter to select only the hours where the temperature is above 25C and the humidity is at or above 80%. How many hours are like this?"
      ]
    },
    {
      "cell_type": "code",
      "metadata": {
        "id": "gKpRqlkYWX8v",
        "colab_type": "code",
        "colab": {}
      },
      "source": [
        "# Hint: create a filter called mask, then apply it to the dataframe"
      ],
      "execution_count": 0,
      "outputs": []
    },
    {
      "cell_type": "code",
      "metadata": {
        "id": "T7etYiQ9WX8x",
        "colab_type": "code",
        "colab": {}
      },
      "source": [
        ""
      ],
      "execution_count": 0,
      "outputs": []
    },
    {
      "cell_type": "markdown",
      "metadata": {
        "id": "r5GeDHjdWX8z",
        "colab_type": "text"
      },
      "source": [
        "### Doing Stats with Pandas"
      ]
    },
    {
      "cell_type": "markdown",
      "metadata": {
        "id": "N33dfx4uWX8z",
        "colab_type": "text"
      },
      "source": [
        "Pandas also lets us do neat things like measuring statistics about our data. Let's look at the average temperature throughout the year."
      ]
    },
    {
      "cell_type": "code",
      "metadata": {
        "ExecuteTime": {
          "end_time": "2018-06-08T21:43:04.869491Z",
          "start_time": "2018-06-08T21:43:04.864047Z"
        },
        "id": "dwedgR9DWX80",
        "colab_type": "code",
        "colab": {}
      },
      "source": [
        "weather['Temp (C)'].mean()"
      ],
      "execution_count": 0,
      "outputs": []
    },
    {
      "cell_type": "markdown",
      "metadata": {
        "id": "XettQrmwWX83",
        "colab_type": "text"
      },
      "source": [
        "Or find the max or min temperature:"
      ]
    },
    {
      "cell_type": "code",
      "metadata": {
        "ExecuteTime": {
          "end_time": "2018-06-08T21:43:05.644524Z",
          "start_time": "2018-06-08T21:43:05.639157Z"
        },
        "id": "_GmlxdT_WX83",
        "colab_type": "code",
        "colab": {}
      },
      "source": [
        "print(weather['Temp (C)'].max())"
      ],
      "execution_count": 0,
      "outputs": []
    },
    {
      "cell_type": "code",
      "metadata": {
        "ExecuteTime": {
          "end_time": "2018-06-08T21:43:05.995282Z",
          "start_time": "2018-06-08T21:43:05.987288Z"
        },
        "id": "zdN9ctFyWX85",
        "colab_type": "code",
        "colab": {}
      },
      "source": [
        "print(weather['Temp (C)'].min())"
      ],
      "execution_count": 0,
      "outputs": []
    },
    {
      "cell_type": "markdown",
      "metadata": {
        "id": "JHtppB7bWX88",
        "colab_type": "text"
      },
      "source": [
        "**Exercise 3:**\n",
        "\n",
        "Let's combine filtering and stats. Find the average wind speed for hours that are less than 10C."
      ]
    },
    {
      "cell_type": "code",
      "metadata": {
        "id": "x0LyfwLfWX89",
        "colab_type": "code",
        "colab": {}
      },
      "source": [
        "# Hint: Create the filter, apply it to the frame, then calculate something on the new dataframe"
      ],
      "execution_count": 0,
      "outputs": []
    },
    {
      "cell_type": "code",
      "metadata": {
        "id": "c_6Oj-FtWX8-",
        "colab_type": "code",
        "colab": {}
      },
      "source": [
        ""
      ],
      "execution_count": 0,
      "outputs": []
    },
    {
      "cell_type": "markdown",
      "metadata": {
        "id": "26eWaz01WX9A",
        "colab_type": "text"
      },
      "source": [
        "### Making new columns"
      ]
    },
    {
      "cell_type": "markdown",
      "metadata": {
        "id": "PC8nxY45WX9B",
        "colab_type": "text"
      },
      "source": [
        "Pandas also allows us to create columns that are mixtures of other columns. Let's make a column that is \"visibility as a percentage of the maximum visibility\"."
      ]
    },
    {
      "cell_type": "code",
      "metadata": {
        "ExecuteTime": {
          "end_time": "2018-06-08T21:43:14.404398Z",
          "start_time": "2018-06-08T21:43:14.387998Z"
        },
        "id": "nfoIizWKWX9B",
        "colab_type": "code",
        "colab": {}
      },
      "source": [
        "max_vis = weather['Visibility (km)'].max()\n",
        "weather['percent_visibility'] = weather['Visibility (km)']/max_vis\n",
        "weather.head()"
      ],
      "execution_count": 0,
      "outputs": []
    },
    {
      "cell_type": "markdown",
      "metadata": {
        "id": "oA4zDyBCWX9D",
        "colab_type": "text"
      },
      "source": [
        "**Exercise 4**\n",
        "\n",
        "Let's convert temperature to Farenheit and create a new column to store that. The conversion to degrees F is done by multiplying the temperature in C by 1.8, then adding 32. Store this in a column called `Temp (F)`. If you've done it right, the first conversion should go from `-1.8C` to `28.76F` in a new column."
      ]
    },
    {
      "cell_type": "code",
      "metadata": {
        "id": "ouY9RxKUWX9D",
        "colab_type": "code",
        "colab": {}
      },
      "source": [
        "# Hint: You can multiply a column by a number, and add numbers to it"
      ],
      "execution_count": 0,
      "outputs": []
    },
    {
      "cell_type": "code",
      "metadata": {
        "id": "NNJL1S6AWX9F",
        "colab_type": "code",
        "colab": {}
      },
      "source": [
        ""
      ],
      "execution_count": 0,
      "outputs": []
    },
    {
      "cell_type": "markdown",
      "metadata": {
        "id": "PuBM6Ed9WX9J",
        "colab_type": "text"
      },
      "source": [
        "### Plotting with Pandas"
      ]
    },
    {
      "cell_type": "markdown",
      "metadata": {
        "id": "42BlPgvlWX9K",
        "colab_type": "text"
      },
      "source": [
        "The last part of pandas we want to explore today is plotting. Let's plot a histogram of temperature over the year."
      ]
    },
    {
      "cell_type": "code",
      "metadata": {
        "ExecuteTime": {
          "end_time": "2018-06-15T19:16:04.169635Z",
          "start_time": "2018-06-15T19:16:03.996632Z"
        },
        "id": "-NauMmltWX9K",
        "colab_type": "code",
        "colab": {}
      },
      "source": [
        "weather['Temp (C)'].plot.hist()\n",
        "plt.xlabel(\"Temperature (C)\");"
      ],
      "execution_count": 0,
      "outputs": []
    },
    {
      "cell_type": "markdown",
      "metadata": {
        "id": "5ZbpShcz3n2m",
        "colab_type": "text"
      },
      "source": [
        "### POLL\n",
        "\n",
        "> - Is this a good visual?\n",
        "\n",
        ">- How could it be improved?"
      ]
    },
    {
      "cell_type": "markdown",
      "metadata": {
        "id": "BMbz26btWX9P",
        "colab_type": "text"
      },
      "source": [
        "What about weather over time? Let's do a line plot of the temperature."
      ]
    },
    {
      "cell_type": "code",
      "metadata": {
        "ExecuteTime": {
          "end_time": "2018-06-15T19:16:05.489625Z",
          "start_time": "2018-06-15T19:16:05.322033Z"
        },
        "id": "OSZA2lMcWX9P",
        "colab_type": "code",
        "colab": {}
      },
      "source": [
        "weather['Temp (C)'].plot.line()"
      ],
      "execution_count": 0,
      "outputs": []
    },
    {
      "cell_type": "markdown",
      "metadata": {
        "id": "kQ1ltTK2WX9R",
        "colab_type": "text"
      },
      "source": [
        "Neat! Except, that doesn't show us the date on the X-Axis. That's because right now, we don't have the date as the index. Let's fix that."
      ]
    },
    {
      "cell_type": "code",
      "metadata": {
        "ExecuteTime": {
          "end_time": "2018-06-15T19:16:07.329870Z",
          "start_time": "2018-06-15T19:16:07.315712Z"
        },
        "id": "HQzNbA5yWX9S",
        "colab_type": "code",
        "colab": {}
      },
      "source": [
        "weather['Date/Time'] = pd.to_datetime(weather['Date/Time'])\n",
        "weather = weather.set_index('Date/Time')"
      ],
      "execution_count": 0,
      "outputs": []
    },
    {
      "cell_type": "code",
      "metadata": {
        "ExecuteTime": {
          "end_time": "2018-06-15T19:16:08.366080Z",
          "start_time": "2018-06-15T19:16:07.814158Z"
        },
        "id": "eYeOHFpjWX9U",
        "colab_type": "code",
        "colab": {}
      },
      "source": [
        "weather['Temp (C)'].plot.line()"
      ],
      "execution_count": 0,
      "outputs": []
    },
    {
      "cell_type": "markdown",
      "metadata": {
        "id": "jM1FleQTWX9Y",
        "colab_type": "text"
      },
      "source": [
        "**Exercise 5**\n",
        "\n",
        "Plot a histogram of wind speeds. Also plot the wind speed versus the time."
      ]
    },
    {
      "cell_type": "code",
      "metadata": {
        "ExecuteTime": {
          "end_time": "2018-06-15T19:16:09.747090Z",
          "start_time": "2018-06-15T19:16:09.744402Z"
        },
        "id": "F2gLyZB4WX9Y",
        "colab_type": "code",
        "colab": {}
      },
      "source": [
        "# Hint: plot.hist(), plot.line()"
      ],
      "execution_count": 0,
      "outputs": []
    },
    {
      "cell_type": "code",
      "metadata": {
        "id": "N7ShdN3dWX9b",
        "colab_type": "code",
        "colab": {}
      },
      "source": [
        ""
      ],
      "execution_count": 0,
      "outputs": []
    },
    {
      "cell_type": "code",
      "metadata": {
        "id": "jsEK7iBpWX9f",
        "colab_type": "code",
        "colab": {}
      },
      "source": [
        ""
      ],
      "execution_count": 0,
      "outputs": []
    },
    {
      "cell_type": "markdown",
      "metadata": {
        "id": "r5-46iZTWX9h",
        "colab_type": "text"
      },
      "source": [
        "## Exercises"
      ]
    },
    {
      "cell_type": "markdown",
      "metadata": {
        "id": "pgtotYTbWX9h",
        "colab_type": "text"
      },
      "source": [
        "In the data folder, there is a csv that contains the file `auto-mpg.csv`. That data is from here: https://archive.ics.uci.edu/ml/datasets/auto+mpg\n",
        "\n",
        "This contains information about makes/models of cars and their reported fuel efficiency. We'll use that as a baseline for some hands on work with Pandas."
      ]
    },
    {
      "cell_type": "markdown",
      "metadata": {
        "id": "0MJBiEXUWX9h",
        "colab_type": "text"
      },
      "source": [
        "### Challenge 1: Load the file into a Pandas dataframe, then print the top 5 rows\n",
        "\n",
        "Store this dataframe in a variable called `autos`"
      ]
    },
    {
      "cell_type": "code",
      "metadata": {
        "id": "vk5M9qlSWX9i",
        "colab_type": "code",
        "colab": {}
      },
      "source": [
        "# hint: look for the raw data file's link"
      ],
      "execution_count": 0,
      "outputs": []
    },
    {
      "cell_type": "markdown",
      "metadata": {
        "id": "rkjJoeqZWX9j",
        "colab_type": "text"
      },
      "source": [
        "### Challenge 2: Find the mean weight and the mean mpg in the dataset as a whole. Now find those for all vehicles with model_year equal to 77"
      ]
    },
    {
      "cell_type": "code",
      "metadata": {
        "id": "vT6SG0ywWX9j",
        "colab_type": "code",
        "colab": {}
      },
      "source": [
        ""
      ],
      "execution_count": 0,
      "outputs": []
    },
    {
      "cell_type": "markdown",
      "metadata": {
        "id": "t9HIgUrAWX9l",
        "colab_type": "text"
      },
      "source": [
        "### Challenge 3: Create a column that is horsepower per cylinder"
      ]
    },
    {
      "cell_type": "code",
      "metadata": {
        "id": "qhJRphFaWX9l",
        "colab_type": "code",
        "colab": {}
      },
      "source": [
        "# hint: there are multiple solutions, can you find more than one?"
      ],
      "execution_count": 0,
      "outputs": []
    },
    {
      "cell_type": "markdown",
      "metadata": {
        "id": "YI5nXelqWX9n",
        "colab_type": "text"
      },
      "source": [
        "### Challenge 4: Make two histograms, one of hp_per_cylinder and one of horsepower. "
      ]
    },
    {
      "cell_type": "code",
      "metadata": {
        "id": "kpQZ6X93WX9n",
        "colab_type": "code",
        "colab": {}
      },
      "source": [
        "# hp_per_cylinder"
      ],
      "execution_count": 0,
      "outputs": []
    },
    {
      "cell_type": "code",
      "metadata": {
        "id": "xsTMhepDWX9o",
        "colab_type": "code",
        "colab": {}
      },
      "source": [
        "# horsepower"
      ],
      "execution_count": 0,
      "outputs": []
    },
    {
      "cell_type": "markdown",
      "metadata": {
        "id": "t9UYau292rCH",
        "colab_type": "text"
      },
      "source": [
        "# Where to go from here?\n",
        "\n",
        "We hope you see the power of Pandas and how it can apply to your analytics and data science projects! Here are some other great resources:\n",
        "\n",
        "- [10 Minutes to pandas](http://pandas.pydata.org/pandas-docs/stable/getting_started/10min.html)  *-- Official beginner guide*\n",
        "- [Python Pandas Tutorial](https://www.tutorialspoint.com/python_pandas/) *-- TutorialPoint tutorial*\n",
        "- [A Complete Introduction for Beginners](https://www.learndatasci.com/tutorials/python-pandas-tutorial-complete-introduction-for-beginners/)   *-- LearnDataSci guide*\n",
        "\n",
        "<br>\n",
        "\n",
        "Thanks for joining us today; enjoy exploring the power of Pandas!\n",
        "\n",
        "<br>"
      ]
    },
    {
      "cell_type": "code",
      "metadata": {
        "id": "h-XOW_pL3Yh_",
        "colab_type": "code",
        "colab": {}
      },
      "source": [
        ""
      ],
      "execution_count": 0,
      "outputs": []
    }
  ]
}